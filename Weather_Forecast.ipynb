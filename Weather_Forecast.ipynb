{
  "cells": [
    {
      "cell_type": "markdown",
      "metadata": {
        "id": "YDFoK_OGgJxD"
      },
      "source": [
        "# **Weather Forecasting**"
      ]
    },
    {
      "cell_type": "markdown",
      "metadata": {
        "id": "2li3oyh6t3fw"
      },
      "source": [
        "---\n",
        "## **1. The Setup**"
      ]
    },
    {
      "cell_type": "markdown",
      "metadata": {
        "id": "rFzEnk3zvMgf"
      },
      "source": [
        "### **1.1 Libraries and API**\n",
        "The following libraries will be necessary for the model. The API key is from the open source weather API: *openweathermap.com*.\n",
        "\n",
        "A helper function is used to make an API request depending on the location of interest."
      ]
    },
    {
      "cell_type": "code",
      "execution_count": 31,
      "metadata": {
        "id": "gxtQr5KgYKf_"
      },
      "outputs": [],
      "source": [
        "import requests\n",
        "import pandas as pd\n",
        "import numpy as np\n",
        "import pytz\n",
        "from sklearn.model_selection import train_test_split\n",
        "# from sklearn.preprocessing import LabelEncoder, OneHotEncoder\n",
        "from sklearn.ensemble import RandomForestClassifier, RandomForestRegressor\n",
        "from sklearn.metrics import mean_squared_error\n",
        "from datetime import datetime, timedelta"
      ]
    },
    {
      "cell_type": "code",
      "execution_count": 32,
      "metadata": {
        "id": "xU0wdKLvZEAC"
      },
      "outputs": [],
      "source": [
        "import os\n",
        "from dotenv import load_dotenv\n",
        "\n",
        "API_KEY = os.getenv(\"API_KEY\")\n",
        "BASE_URL = 'https://api.openweathermap.org/data/2.5/'"
      ]
    },
    {
      "cell_type": "code",
      "execution_count": 33,
      "metadata": {
        "id": "h8q2KBymewjo"
      },
      "outputs": [],
      "source": [
        "def get_current_weather(city):\n",
        "  url = f\"{BASE_URL}weather?q={city}&appid={API_KEY}&units=metric\"  # API request URL construction\n",
        "  response = requests.get(url)\n",
        "  data = response.json()\n",
        "  return {\n",
        "      'city': data['name'],\n",
        "      'country': data['sys']['country'],\n",
        "      'temperature_2m_mean': round(data['main']['temp']),\n",
        "      'apparent_temperature_mean': round(data['main']['feels_like']),\n",
        "      'temperature_2m_min': round(data['main']['temp_min']),\n",
        "      'temperature_2m_max': round(data['main']['temp_max']),\n",
        "      'relative_humidity_2m_mean': data['main']['humidity'],\n",
        "      'wind_speed_10m_max': data['wind']['speed'],\n",
        "      'wind_direction_10m_dominant': data['wind']['deg'],\n",
        "      'surface_pressure_mean': data['main']['pressure'],\n",
        "      'description': data['weather'][0]['description'],\n",
        "  }"
      ]
    },
    {
      "cell_type": "markdown",
      "metadata": {
        "id": "diwtvGGLgQt2"
      },
      "source": [
        "### **1.2 Reading historical data**\n",
        "\n",
        "The data was obtained from *open-meteo.com*. For more information, see Appendix A."
      ]
    },
    {
      "cell_type": "code",
      "execution_count": 34,
      "metadata": {
        "id": "2CIxD0sGgYbZ"
      },
      "outputs": [],
      "source": [
        "df = pd.read_csv('weather_data.csv', index_col = 'date')\n",
        "df.drop('Unnamed: 0', axis=1, inplace=True)\n",
        "df.head()\n",
        "\n",
        "def read_historical_data(file_path):\n",
        "  df = pd.read_csv(file_path) # Load the csv file\n",
        "\n",
        "  df = df.dropna()\n",
        "  df = df.drop_duplicates()\n",
        "  df = df.reset_index(drop=True)\n",
        "  return df"
      ]
    },
    {
      "cell_type": "markdown",
      "metadata": {
        "id": "wrRPjEG8g9ll"
      },
      "source": [
        "---\n",
        "## **2 Predicting Rain**"
      ]
    },
    {
      "cell_type": "markdown",
      "metadata": {
        "id": "aLzVkfc_sebO"
      },
      "source": [
        "### **2.1 To Encode, or not to Encode?**\n",
        "\n",
        "It is important to note from the data being used, it is already numerical:\n",
        "\n",
        "*   For any data requiring label enconding, this is already the case, and\n",
        "*   There is a lack of data suitable for one-hot encoding.\n",
        "\n",
        "Thus no encoder will be used in the preprocessing.\n",
        "\n",
        "[NB: It may be a good idea to consider categorising data. In this case, bearings are being used to measure the wind direction. However, it may be better to consider what the general wind direction is relative to a compass reading. In other words, categorise wind direction to either N, NE, E, SE, S, SW, W or NW. For now, the bearing will keep being used and will then be converted to the closest corresponding compass direction.]\n",
        "\n"
      ]
    },
    {
      "cell_type": "markdown",
      "metadata": {
        "id": "XuUjEp0LwCh5"
      },
      "source": [
        "### **2.2 Features, targets... bullseye**\n",
        "\n",
        "It is better to start simple and then build up the complexity (potentially inclusing a neural network eventually). Thus, the model will be made to predict the `rain_tomorrow` variable. It may be beneficial for the next step to be predicting `precipitation_hours`."
      ]
    },
    {
      "cell_type": "code",
      "execution_count": 35,
      "metadata": {
        "id": "9T2_W-FEg9Sm"
      },
      "outputs": [],
      "source": [
        "def preprocessing_for_classification(data):\n",
        "  # Define the features and targets\n",
        "  X = data[['temperature_2m_min', 'temperature_2m_max', 'wind_speed_10m_max', 'wind_direction_10m_dominant', 'relative_humidity_2m_mean', 'surface_pressure_mean', 'apparent_temperature_mean']]\n",
        "  y = data[['rain_tomorrow']]\n",
        "\n",
        "  # Missing: 'precipitation_hours', 'wind_gusts_10m_max',\n",
        "  return X, y"
      ]
    },
    {
      "cell_type": "markdown",
      "metadata": {
        "id": "PBCPhzvU2ID6"
      },
      "source": [
        "### **2.3 Training the model**\n",
        "\n",
        "Since we are dealing with a binary classification problem (it either rains tomorrow or it doesn't), one may think to use the Log Loss function (i.e. binary cross-entropy). However, since computational efficiency is desired early on, the default Gini Impurity for Random Forest Classifiers will be used."
      ]
    },
    {
      "cell_type": "code",
      "execution_count": 36,
      "metadata": {
        "id": "h5MF8yGB2Olf"
      },
      "outputs": [],
      "source": [
        "from sklearn.metrics import log_loss, mean_squared_error\n",
        "\n",
        "def train_rain_model(X,y):\n",
        "  X_train, X_test, y_train, y_test = train_test_split(X, y, test_size=0.15, random_state=42)\n",
        "  model = RandomForestClassifier(n_estimators=200, random_state=42)\n",
        "\n",
        "  model.fit(X_train, y_train)\n",
        "  y_pred = model.predict(X_test)\n",
        "\n",
        "  print(f\"Log Loss Error: {log_loss(y_test, y_pred)}\")\n",
        "  print(f\"Mean Squared Error: {mean_squared_error(y_test, y_pred)}\")\n",
        "\n",
        "  return model"
      ]
    },
    {
      "cell_type": "markdown",
      "metadata": {
        "id": "GkxziGHhCG9R"
      },
      "source": [
        "## **3. Predicting Temperature and Wind Speed**"
      ]
    },
    {
      "cell_type": "markdown",
      "metadata": {
        "id": "cAIzlyFyEJuF"
      },
      "source": [
        "### **3.1 Preprocessing for Regression**\n",
        "\n",
        "The previous classification model was for predicting whether or not it was going to rain the next day. The following model will be to instead predict continuous variables such as temperature and wind speed. We begin by preprocessing the data again."
      ]
    },
    {
      "cell_type": "code",
      "execution_count": 37,
      "metadata": {
        "id": "g94kHr6FCT4F"
      },
      "outputs": [],
      "source": [
        "def preprocessing_for_regression(data, feature):\n",
        "  X, y = [], [] # Features and targets respectively\n",
        "\n",
        "  for i in range(len(data)-1):\n",
        "    X.append(data[feature].iloc[i])\n",
        "    y.append(data[feature].iloc[i+1])\n",
        "\n",
        "  X = np.array(X).reshape(-1, 1)\n",
        "  y = np.array(y).reshape(len(y),)\n",
        "\n",
        "  return X, y"
      ]
    },
    {
      "cell_type": "markdown",
      "metadata": {
        "id": "5l8LpTuYFIlV"
      },
      "source": [
        "### **3.2 Making the model and its prediction**\n",
        "\n",
        "Since we are predicting multiple continuous variables using Random Forest Regressors, these functions are made to create various models depending on the desired variable. The prediction function remains the same across the models."
      ]
    },
    {
      "cell_type": "code",
      "execution_count": 38,
      "metadata": {
        "id": "MAby097ADbNV"
      },
      "outputs": [],
      "source": [
        "def train_regression_model(X, y):\n",
        "  model = RandomForestRegressor(n_estimators=200, random_state=42)\n",
        "  model.fit(X, y)\n",
        "  return model"
      ]
    },
    {
      "cell_type": "code",
      "execution_count": 39,
      "metadata": {
        "id": "M-Lo2H52Dq2s"
      },
      "outputs": [],
      "source": [
        "def predict(model, current_value):\n",
        "  predictions = [current_value]\n",
        "\n",
        "  for i in range(5):\n",
        "    next_value = model.predict(np.array(predictions).reshape(-1, 1))\n",
        "    predictions.append(next_value[-1])\n",
        "\n",
        "  return predictions[1:]"
      ]
    },
    {
      "cell_type": "markdown",
      "metadata": {
        "id": "wyKvn9ThF2QG"
      },
      "source": [
        "## **4. Bringing it all together**"
      ]
    },
    {
      "cell_type": "code",
      "execution_count": 40,
      "metadata": {
        "id": "l4TquzMZEE1v"
      },
      "outputs": [],
      "source": [
        "def weather_forecast():\n",
        "  city = input(\"Enter a city: \")\n",
        "  current_weather = get_current_weather(city)\n",
        "\n",
        "\n",
        "  data = read_historical_data('weather_data.csv')\n",
        "\n",
        "  X, y = preprocessing_for_classification(data)\n",
        "  rain_model = train_rain_model(X, y)\n",
        "\n",
        "  current_data = {\n",
        "      'temperature_2m_min': current_weather['temperature_2m_min'],\n",
        "      'temperature_2m_max': current_weather['temperature_2m_max'],\n",
        "      # 'wind_gusts_10m_max': data['wind']['gust'],\n",
        "      'wind_speed_10m_max': current_weather['wind_speed_10m_max'],\n",
        "      'wind_direction_10m_dominant': current_weather['wind_direction_10m_dominant'],\n",
        "      'relative_humidity_2m_mean': current_weather['relative_humidity_2m_mean'],\n",
        "      'surface_pressure_mean': current_weather['surface_pressure_mean'],\n",
        "      'apparent_temperature_mean': current_weather['apparent_temperature_mean'],\n",
        "      # 'precipitation_hours': data['rain']['3h'],\n",
        "      # 'weather_code': data[],\n",
        "      # 'precipitation_sum': data[],\n",
        "  }\n",
        "\n",
        "  current_df = pd.DataFrame([current_data])\n",
        "\n",
        "  rain_prediction = rain_model.predict(current_df)[0]\n",
        "\n",
        "  # Predict temperature\n",
        "  X_temp, y_temp = preprocessing_for_regression(data, 'temperature_2m_mean')\n",
        "  temp_model = train_regression_model(X_temp, y_temp)\n",
        "  temp_prediction = predict(temp_model, current_weather['temperature_2m_mean'])\n",
        "\n",
        "  #Predict Min Temp\n",
        "  X_min, y_min = preprocessing_for_regression(data, 'temperature_2m_min')\n",
        "  min_temp_model = train_regression_model(X_min, y_min)\n",
        "  min_temp_prediction = predict(min_temp_model, current_weather['temperature_2m_min'])\n",
        "\n",
        "  #Predict Max Temp\n",
        "  X_max, y_max = preprocessing_for_regression(data, 'temperature_2m_max')\n",
        "  max_temp_model = train_regression_model(X_max, y_max)\n",
        "  max_temp_prediction = predict(max_temp_model, current_weather['temperature_2m_max'])\n",
        "\n",
        "  # Predict humidity\n",
        "  X_hum, y_hum = preprocessing_for_regression(data, 'relative_humidity_2m_mean')\n",
        "  hum_model = train_regression_model(X_hum, y_hum)\n",
        "  hum_prediction = predict(hum_model, current_weather['relative_humidity_2m_mean'])\n",
        "\n",
        "  ##\n",
        "\n",
        "  timezone = pytz.timezone('Europe/London')\n",
        "  current_time = datetime.now(timezone)\n",
        "  next_day = current_time + timedelta(hours=24)\n",
        "  next_day = next_day.replace(minute=0, second=0, microsecond=0)\n",
        "\n",
        "  future_times = [(next_day + timedelta(hours=i)).strftime('%d-%m-%Y') for i in range(0,24*5, 24)]\n",
        "\n",
        "  print(f\"City: {city}\")\n",
        "  print(f\"Country: {current_weather['country']}\")\n",
        "  print(f\"Current Temperature: {current_weather['temperature_2m_mean']}°C\")\n",
        "  print(f\"Current Humidity: {current_weather['relative_humidity_2m_mean']}%\")\n",
        "  print(f\"Minimum Temperature: {current_weather['temperature_2m_min']}\")\n",
        "  print(f\"Maximum Temperature: {current_weather['temperature_2m_max']}\")\n",
        "  print(f\"Weather Prediction: {current_weather['description']}\")\n",
        "  print(f\"Rain Prediction: {'Yes' if rain_prediction else 'No'}\")\n",
        "\n",
        "  print(\"\\nTemperature Forecast:\")\n",
        "  for time, temp, mini, maxi in zip(future_times, temp_prediction, min_temp_prediction, max_temp_prediction):\n",
        "    print(f\"{time}: {round(temp, 1)}°C. Min: {round(mini, 1)}. Max: {round(maxi, 1)}.\")\n",
        "\n",
        "  print(\"\\nHumidity Forecast:\")\n",
        "  for time, hum in zip(future_times, hum_prediction):\n",
        "    print(f\"{time}: {round(hum, 1)}%\")"
      ]
    },
    {
      "cell_type": "code",
      "execution_count": 41,
      "metadata": {
        "colab": {
          "base_uri": "https://localhost:8080/"
        },
        "id": "BRatyiZp0LRY",
        "outputId": "5f4a9076-40fc-4028-d4de-fe915202a43a"
      },
      "outputs": [
        {
          "name": "stderr",
          "output_type": "stream",
          "text": [
            "c:\\ProgramData\\anaconda3\\Lib\\site-packages\\sklearn\\base.py:1389: DataConversionWarning: A column-vector y was passed when a 1d array was expected. Please change the shape of y to (n_samples,), for example using ravel().\n",
            "  return fit_method(estimator, *args, **kwargs)\n"
          ]
        },
        {
          "name": "stdout",
          "output_type": "stream",
          "text": [
            "Log Loss Error: 5.898052372764625\n",
            "Mean Squared Error: 0.16363636363636364\n",
            "City: London\n",
            "Country: GB\n",
            "Current Temperature: 16°C\n",
            "Current Humidity: 52%\n",
            "Minimum Temperature: 15\n",
            "Maximum Temperature: 17\n",
            "Weather Prediction: broken clouds\n",
            "Rain Prediction: No\n",
            "\n",
            "Temperature Forecast:\n",
            "06-10-2025: 15.6°C. Min: 15.3. Max: 18.6.\n",
            "07-10-2025: 14.5°C. Min: 15.6. Max: 18.3.\n",
            "08-10-2025: 16.0°C. Min: 13.1. Max: 15.4.\n",
            "09-10-2025: 16.4°C. Min: 8.4. Max: 15.3.\n",
            "10-10-2025: 18.9°C. Min: 9.9. Max: 13.4.\n",
            "\n",
            "Humidity Forecast:\n",
            "06-10-2025: 61.1%\n",
            "07-10-2025: 50.1%\n",
            "08-10-2025: 67.9%\n",
            "09-10-2025: 68.0%\n",
            "10-10-2025: 67.9%\n"
          ]
        }
      ],
      "source": [
        "weather_forecast()"
      ]
    },
    {
      "cell_type": "markdown",
      "metadata": {
        "id": "cqAOGxnzoRTo"
      },
      "source": [
        "---\n",
        "# Appendix A\n",
        "\n",
        "The following commented code was generated in *open-meteo.com*. It uses its Historical Weather API to generate a pandas dataframe with the information selected on the website. I exported the dataframe as a .csv file to add an additional column with ease using Excel: the `rain_tomorrow` column. Whether or not it rains tomorrow is quite important since that is a huge part of the end prediction - whether it rains or not.\n",
        "\n",
        "(I named it w_data to not get it confused with the dataset used for training)"
      ]
    },
    {
      "cell_type": "code",
      "execution_count": 42,
      "metadata": {
        "id": "93RBHlpCoR0N"
      },
      "outputs": [],
      "source": [
        "# !pip install openmeteo-requests\n",
        "# !pip install requests-cache retry-requests\n",
        "\n",
        "# import openmeteo_requests\n",
        "\n",
        "# import requests_cache\n",
        "# from retry_requests import retry\n",
        "\n",
        "# # Setup the Open-Meteo API client with cache and retry on error\n",
        "# cache_session = requests_cache.CachedSession('.cache', expire_after = -1)\n",
        "# retry_session = retry(cache_session, retries = 5, backoff_factor = 0.2)\n",
        "# openmeteo = openmeteo_requests.Client(session = retry_session)\n",
        "\n",
        "# # Make sure all required weather variables are listed here\n",
        "# # The order of variables in hourly or daily is important to assign them correctly below\n",
        "# url = \"https://archive-api.open-meteo.com/v1/archive\"\n",
        "# params = {\n",
        "# \t\"latitude\": 51.65,\n",
        "# \t\"longitude\": -0.08,\n",
        "# \t\"start_date\": \"2024-07-01\",\n",
        "# \t\"end_date\": \"2025-07-01\",\n",
        "# \t\"daily\": [\"temperature_2m_min\", \"temperature_2m_max\", \"wind_gusts_10m_max\", \"wind_speed_10m_max\", \"wind_direction_10m_dominant\", \"relative_humidity_2m_mean\", \"surface_pressure_mean\", \"temperature_2m_mean\", \"precipitation_hours\", \"weather_code\", \"precipitation_sum\"],\n",
        "# \t\"timezone\": \"auto\",\n",
        "# }\n",
        "# responses = openmeteo.weather_api(url, params=params)\n",
        "\n",
        "# # Process first location. Add a for-loop for multiple locations or weather models\n",
        "# response = responses[0]\n",
        "# print(f\"Coordinates: {response.Latitude()}°N {response.Longitude()}°E\")\n",
        "# print(f\"Elevation: {response.Elevation()} m asl\")\n",
        "# print(f\"Timezone: {response.Timezone()}{response.TimezoneAbbreviation()}\")\n",
        "# print(f\"Timezone difference to GMT+0: {response.UtcOffsetSeconds()}s\")\n",
        "\n",
        "# # Process daily data. The order of variables needs to be the same as requested.\n",
        "# daily = response.Daily()\n",
        "# daily_temperature_2m_min = daily.Variables(0).ValuesAsNumpy()\n",
        "# daily_temperature_2m_max = daily.Variables(1).ValuesAsNumpy()\n",
        "# daily_wind_gusts_10m_max = daily.Variables(2).ValuesAsNumpy()\n",
        "# daily_wind_speed_10m_max = daily.Variables(3).ValuesAsNumpy()\n",
        "# daily_wind_direction_10m_dominant = daily.Variables(4).ValuesAsNumpy()\n",
        "# daily_relative_humidity_2m_mean = daily.Variables(5).ValuesAsNumpy()\n",
        "# daily_surface_pressure_mean = daily.Variables(6).ValuesAsNumpy()\n",
        "# daily_temperature_2m_mean = daily.Variables(7).ValuesAsNumpy()\n",
        "# daily_precipitation_hours = daily.Variables(8).ValuesAsNumpy()\n",
        "# daily_weather_code = daily.Variables(9).ValuesAsNumpy()\n",
        "# daily_precipitation_sum = daily.Variables(10).ValuesAsNumpy()\n",
        "\n",
        "# daily_data = {\"date\": pd.date_range(\n",
        "# \tstart = pd.to_datetime(daily.Time(), unit = \"s\", utc = True),\n",
        "# \tend = pd.to_datetime(daily.TimeEnd(), unit = \"s\", utc = True),\n",
        "# \tfreq = pd.Timedelta(seconds = daily.Interval()),\n",
        "# \tinclusive = \"left\"\n",
        "# )}\n",
        "\n",
        "# daily_data[\"temperature_2m_min\"] = daily_temperature_2m_min\n",
        "# daily_data[\"temperature_2m_max\"] = daily_temperature_2m_max\n",
        "# daily_data[\"wind_gusts_10m_max\"] = daily_wind_gusts_10m_max\n",
        "# daily_data[\"wind_speed_10m_max\"] = daily_wind_speed_10m_max\n",
        "# daily_data[\"wind_direction_10m_dominant\"] = daily_wind_direction_10m_dominant\n",
        "# daily_data[\"relative_humidity_2m_mean\"] = daily_relative_humidity_2m_mean\n",
        "# daily_data[\"surface_pressure_mean\"] = daily_surface_pressure_mean\n",
        "# daily_data[\"temperature_2m_mean\"] = daily_temperature_2m_mean\n",
        "# daily_data[\"precipitation_hours\"] = daily_precipitation_hours\n",
        "# daily_data[\"weather_code\"] = daily_weather_code\n",
        "# daily_data[\"precipitation_sum\"] = daily_precipitation_sum\n",
        "\n",
        "# daily_dataframe = pd.DataFrame(data = daily_data)\n",
        "# print(\"\\nDaily data\\n\", daily_dataframe)\n",
        "# daily_dataframe.to_csv('w_data.csv')"
      ]
    }
  ],
  "metadata": {
    "colab": {
      "provenance": [],
      "toc_visible": true
    },
    "kernelspec": {
      "display_name": "base",
      "language": "python",
      "name": "python3"
    },
    "language_info": {
      "codemirror_mode": {
        "name": "ipython",
        "version": 3
      },
      "file_extension": ".py",
      "mimetype": "text/x-python",
      "name": "python",
      "nbconvert_exporter": "python",
      "pygments_lexer": "ipython3",
      "version": "3.13.5"
    }
  },
  "nbformat": 4,
  "nbformat_minor": 0
}
